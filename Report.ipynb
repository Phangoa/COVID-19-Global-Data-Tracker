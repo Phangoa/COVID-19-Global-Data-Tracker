{
 "cells": [
  {
   "cell_type": "markdown",
   "id": "b8205fe5",
   "metadata": {},
   "source": [
    "COVID-19 Global Data Tracker \n",
    "\n",
    "1. Introduction & Project Overview\n",
    "\n",
    "\n",
    "This report documents the COVID-19 Global Data Tracker project, a data analysis and reporting initiative designed to analyze global COVID-19 trends. The project focused on tracking key metrics such as cases, deaths, and vaccinations to generate actionable insights and visualize trends. This analysis was performed using real-world data provided by Our World in Data.\n",
    "The objective was to create a comprehensive data analysis report with visualizations and a narrative summary, demonstrating proficiency in data processing, exploratory data analysis (EDA), and data storytelling using Python's data science toolkit.\n"
   ]
  },
  {
   "cell_type": "markdown",
   "id": "1442945a",
   "metadata": {},
   "source": [
    "2. Project Objectives\n",
    "\n",
    "\n",
    "The project successfully addressed the following core objectives:\n",
    "\n",
    "- Import and clean a global COVID-19 dataset.\n",
    "- Analyze time trends for cases, deaths, and vaccinations.\n",
    "- Compare key metrics across selected countries and regions.\n",
    "- Visualize trends using a variety of charts and maps.\n"
   ]
  },
  {
   "cell_type": "markdown",
   "id": "2104af10",
   "metadata": {},
   "source": [
    "3. Methodology\n",
    "\n",
    "\n",
    "3.1 Data Collection\n",
    "\n",
    "The primary data source was the owid-covid-data.csv dataset from Our World in Data, as recommended for beginners. This dataset provides a clean, well-structured foundation for the analysis, containing daily time-series data for numerous countries and key COVID-19 indicators. Our World in Data download link:\n",
    "- Source: https://ourworldindata.org/covid-cases  \n",
    "- Direct CSV: https://covid.ourworldindata.org/data/owid-covid-data.csv\n",
    "\n"
   ]
  },
  {
   "cell_type": "markdown",
   "id": "01b19e7e",
   "metadata": {},
   "source": [
    "3.2 Setup & Libraries"
   ]
  },
  {
   "cell_type": "markdown",
   "id": "635a959b",
   "metadata": {},
   "source": [
    "- Download owid-covid-data.csv from the above link.\n",
    "- Save in your working folder.\n",
    "- Install packages if missing. We’ll use pandas, matplotlib, plotly.express and seaborn libraries\n",
    "- run this command in the terminal: pip install pandas matplotlib plotly seaborn\n"
   ]
  },
  {
   "cell_type": "code",
   "execution_count": 6,
   "id": "d601d4c3",
   "metadata": {},
   "outputs": [],
   "source": [
    "# Import Required Libraries\n",
    "import pandas as pd\n",
    "import matplotlib.pyplot as plt\n",
    "import seaborn as sns\n",
    "import plotly.express as px\n"
   ]
  },
  {
   "cell_type": "markdown",
   "id": "076a477a",
   "metadata": {},
   "source": [
    "3.3 Data Loading & Cleaning\n",
    "\n",
    "The project utilized the pandas library to load the dataset. A key step in the process was to ensure data integrity and relevance for the analysis.\n",
    "\n",
    "- Load data using pandas.read_csv().\n"
   ]
  },
  {
   "cell_type": "code",
   "execution_count": 11,
   "id": "a42e8550",
   "metadata": {},
   "outputs": [],
   "source": [
    "\n",
    "# Load the Dataset\n",
    "df = pd.read_csv(\"owid-covid-data.csv\")\n"
   ]
  },
  {
   "cell_type": "markdown",
   "id": "d27c2ea6",
   "metadata": {},
   "source": [
    "\n",
    "The goal is to Load the dataset and explore its structure.\n",
    "- Check columns: df.columns.\n",
    "- Preview rows: df.head().\n",
    "- Identify missing values: df.isnull().sum().\n",
    "\n",
    "The following cleaning tasks were performed:\n",
    "- The dataset was filtered to include only the five countries of interest: Kenya, India, United States, South Africa, and Lesotho.\n",
    "- The 'date' column was converted to a proper datetime format to enable time-series analysis.\n",
    "- Rows with missing values for critical columns like total_cases and total_deaths were removed to maintain data accuracy.\n",
    "- Missing values in numeric columns such as new_cases and total_vaccinations were filled with zero to facilitate consistent plotting."
   ]
  },
  {
   "cell_type": "code",
   "execution_count": 19,
   "id": "a8387ce2",
   "metadata": {},
   "outputs": [
    {
     "name": "stdout",
     "output_type": "stream",
     "text": [
      "Columns: ['iso_code', 'continent', 'location', 'date', 'total_cases', 'new_cases', 'new_cases_smoothed', 'total_deaths', 'new_deaths', 'new_deaths_smoothed', 'total_cases_per_million', 'new_cases_per_million', 'new_cases_smoothed_per_million', 'total_deaths_per_million', 'new_deaths_per_million', 'new_deaths_smoothed_per_million', 'reproduction_rate', 'icu_patients', 'icu_patients_per_million', 'hosp_patients', 'hosp_patients_per_million', 'weekly_icu_admissions', 'weekly_icu_admissions_per_million', 'weekly_hosp_admissions', 'weekly_hosp_admissions_per_million', 'total_tests', 'new_tests', 'total_tests_per_thousand', 'new_tests_per_thousand', 'new_tests_smoothed', 'new_tests_smoothed_per_thousand', 'positive_rate', 'tests_per_case', 'tests_units', 'total_vaccinations', 'people_vaccinated', 'people_fully_vaccinated', 'total_boosters', 'new_vaccinations', 'new_vaccinations_smoothed', 'total_vaccinations_per_hundred', 'people_vaccinated_per_hundred', 'people_fully_vaccinated_per_hundred', 'total_boosters_per_hundred', 'new_vaccinations_smoothed_per_million', 'new_people_vaccinated_smoothed', 'new_people_vaccinated_smoothed_per_hundred', 'stringency_index', 'population_density', 'median_age', 'aged_65_older', 'aged_70_older', 'gdp_per_capita', 'extreme_poverty', 'cardiovasc_death_rate', 'diabetes_prevalence', 'female_smokers', 'male_smokers', 'handwashing_facilities', 'hospital_beds_per_thousand', 'life_expectancy', 'human_development_index', 'population', 'excess_mortality_cumulative_absolute', 'excess_mortality_cumulative', 'excess_mortality', 'excess_mortality_cumulative_per_million', 'death_rate', 'vaccination_rate']\n",
      "Shape: (6441, 69)\n",
      "Missing values:\n",
      " weekly_icu_admissions                      6441\n",
      "weekly_icu_admissions_per_million          6441\n",
      "excess_mortality_cumulative_per_million    6083\n",
      "excess_mortality                           6083\n",
      "excess_mortality_cumulative                6083\n",
      "                                           ... \n",
      "new_cases                                     0\n",
      "total_cases                                   0\n",
      "date                                          0\n",
      "location                                      0\n",
      "vaccination_rate                              0\n",
      "Length: 69, dtype: int64\n"
     ]
    }
   ],
   "source": [
    "\n",
    "# Initial Exploration\n",
    "print(\"Columns:\", df.columns.tolist())\n",
    "print(\"Shape:\", df.shape)\n",
    "print(\"Missing values:\\n\", df.isnull().sum().sort_values(ascending=False))\n",
    "\n",
    "\n",
    "# Data Cleaning\n",
    "# Filter for selected countries\n",
    "countries = ['Kenya', 'India', 'United States', 'South Africa', 'Lesotho']\n",
    "df = df[df['location'].isin(countries)]\n",
    "\n",
    "\n",
    "# Convert date column to datetime\n",
    "df['date'] = pd.to_datetime(df['date'])\n",
    "\n",
    "# Drop rows with missing critical values\n",
    "df = df.dropna(subset=['date', 'total_cases', 'total_deaths'])\n",
    "\n",
    "# Fill missing numeric values\n",
    "numeric_cols = ['new_cases', 'new_deaths', 'total_vaccinations']\n",
    "df[numeric_cols] = df[numeric_cols].fillna(0)\n",
    "\n",
    "\n",
    "# Feature Engineering\n",
    "df['death_rate'] = df['total_deaths'] / df['total_cases']\n",
    "df['vaccination_rate'] = df['total_vaccinations'] / df['population']\n"
   ]
  },
  {
   "cell_type": "markdown",
   "id": "74ce7bec",
   "metadata": {},
   "source": [
    "3.3 Exploratory Data Analysis (EDA)\n",
    "Following the cleaning phase, the data was prepared for analysis and visualization. New metrics were engineered to provide deeper insights:\n",
    "- Death Rate: Calculated as total_deaths / total_cases.\n",
    "- Vaccination Rate: Calculated as total_vaccinations / population.\n"
   ]
  },
  {
   "cell_type": "code",
   "execution_count": 16,
   "id": "596e9534",
   "metadata": {},
   "outputs": [
    {
     "data": {
      "image/png": "[encoded data removed]",
      "text/plain": [
       "<Figure size 1200x600 with 1 Axes>"
      ]
     },
     "metadata": {},
     "output_type": "display_data"
    }
   ],
   "source": [
    "\n",
    "# Exploratory Data Analysis (EDA)\n",
    "# Line plot: Total cases over time\n",
    "plt.figure(figsize=(12,6))\n",
    "for country in countries:\n",
    "    country_data = df[df['location'] == country]\n",
    "    plt.plot(country_data['date'], country_data['total_cases'], label=country)\n",
    "plt.title(\"Total COVID-19 Cases Over Time\")\n",
    "plt.xlabel(\"Date\")\n",
    "plt.ylabel(\"Total Cases\")\n",
    "plt.legend()\n",
    "plt.grid(True)\n",
    "plt.tight_layout()\n",
    "plt.show()\n"
   ]
  },
  {
   "cell_type": "code",
   "execution_count": 9,
   "id": "4351732f",
   "metadata": {},
   "outputs": [
    {
     "name": "stderr",
     "output_type": "stream",
     "text": [
      "C:\\Users\\VCL Foundation\\AppData\\Local\\Temp\\ipykernel_18384\\2199814034.py:7: FutureWarning: \n",
      "\n",
      "Passing `palette` without assigning `hue` is deprecated and will be removed in v0.14.0. Assign the `y` variable to `hue` and set `legend=False` for the same effect.\n",
      "\n",
      "  sns.barplot(x=total_cases_by_country.values, y=total_cases_by_country.index, palette=\"viridis\")\n"
     ]
    },
    {
     "data": {
      "image/png": "[encoded data removed]",
      "text/plain": [
       "<Figure size 800x500 with 1 Axes>"
      ]
     },
     "metadata": {},
     "output_type": "display_data"
    }
   ],
   "source": [
    "\n",
    "# Bar chart: Total cases by country (latest date)\n",
    "latest_date = df['date'].max()\n",
    "latest_data = df[df['date'] == latest_date]\n",
    "total_cases_by_country = latest_data.groupby('location')['total_cases'].sum().sort_values(ascending=False)\n",
    "\n",
    "plt.figure(figsize=(8,5))\n",
    "sns.barplot(x=total_cases_by_country.values, y=total_cases_by_country.index, palette=\"viridis\")\n",
    "plt.title(f\"Total Cases by Country on {latest_date.date()}\")\n",
    "plt.xlabel(\"Total Cases\")\n",
    "plt.ylabel(\"Country\")\n",
    "plt.tight_layout()\n",
    "plt.show()\n"
   ]
  },
  {
   "cell_type": "code",
   "execution_count": 10,
   "id": "222052b0",
   "metadata": {},
   "outputs": [
    {
     "data": {
      "image/png": "[encoded data removed]",
      "text/plain": [
       "<Figure size 1200x600 with 1 Axes>"
      ]
     },
     "metadata": {},
     "output_type": "display_data"
    }
   ],
   "source": [
    "\n",
    "# Vaccination Progress\n",
    "plt.figure(figsize=(12,6))\n",
    "for country in countries:\n",
    "    country_data = df[df['location'] == country]\n",
    "    plt.plot(country_data['date'], country_data['total_vaccinations'], label=country)\n",
    "plt.title(\"Cumulative Vaccinations Over Time\")\n",
    "plt.xlabel(\"Date\")\n",
    "plt.ylabel(\"Total Vaccinations\")\n",
    "plt.legend()\n",
    "plt.grid(True)\n",
    "plt.tight_layout()\n",
    "plt.show()"
   ]
  },
  {
   "cell_type": "code",
   "execution_count": 20,
   "id": "b8ae5309",
   "metadata": {},
   "outputs": [
    {
     "data": {
      "application/vnd.plotly.v1+json": {
       "config": {
        "plotlyServerURL": "https://plot.ly"
       },
       "data": [
        {
         "coloraxis": "coloraxis",
         "geo": "geo",
         "hovertemplate": "<b>%{hovertext}</b><br><br>iso_code=%{location}<br>total_cases=%{z}<extra></extra>",
         "hovertext": [
          "India",
          "Kenya",
          "Lesotho",
          "South Africa",
          "United States"
         ],
         "locations": [
          "IND",
          "KEN",
          "LSO",
          "ZAF",
          "USA"
         ],
         "name": "",
         "type": "choropleth",
         "z": {
          "bdata": "AAAAIB11hUEAAAAA/P4UQQAAAACAf+FAAAAAgCoST0EAAAB0SKmYQQ==",
          "dtype": "f8"
         }
        }
       ],
       "layout": {
        "coloraxis": {
         "colorbar": {
          "title": {
           "text": "total_cases"
          }
         },
         "colorscale": [
          [
           0,
           "rgb(255,245,240)"
          ],
          [
           0.125,
           "rgb(254,224,210)"
          ],
          [
           0.25,
           "rgb(252,187,161)"
          ],
          [
           0.375,
           "rgb(252,146,114)"
          ],
          [
           0.5,
           "rgb(251,106,74)"
          ],
          [
           0.625,
           "rgb(239,59,44)"
          ],
          [
           0.75,
           "rgb(203,24,29)"
          ],
          [
           0.875,
           "rgb(165,15,21)"
          ],
          [
           1,
           "rgb(103,0,13)"
          ]
         ]
        },
        "geo": {
         "center": {},
         "domain": {
          "x": [
           0,
           1
          ],
          "y": [
           0,
           1
          ]
         }
        },
        "legend": {
         "tracegroupgap": 0
        },
        "template": {
         "data": {
          "bar": [
           {
            "error_x": {
             "color": "#2a3f5f"
            },
            "error_y": {
             "color": "#2a3f5f"
            },
            "marker": {
             "line": {
              "color": "#E5ECF6",
              "width": 0.5
             },
             "pattern": {
              "fillmode": "overlay",
              "size": 10,
              "solidity": 0.2
             }
            },
            "type": "bar"
           }
          ],
          "barpolar": [
           {
            "marker": {
             "line": {
              "color": "#E5ECF6",
              "width": 0.5
             },
             "pattern": {
              "fillmode": "overlay",
              "size": 10,
              "solidity": 0.2
             }
            },
            "type": "barpolar"
           }
          ],
          "carpet": [
           {
            "aaxis": {
             "endlinecolor": "#2a3f5f",
             "gridcolor": "white",
             "linecolor": "white",
             "minorgridcolor": "white",
             "startlinecolor": "#2a3f5f"
            },
            "baxis": {
             "endlinecolor": "#2a3f5f",
             "gridcolor": "white",
             "linecolor": "white",
             "minorgridcolor": "white",
             "startlinecolor": "#2a3f5f"
            },
            "type": "carpet"
           }
          ],
          "choropleth": [
           {
            "colorbar": {
             "outlinewidth": 0,
             "ticks": ""
            },
            "type": "choropleth"
           }
          ],
          "contour": [
           {
            "colorbar": {
             "outlinewidth": 0,
             "ticks": ""
            },
            "colorscale": [
             [
              0,
              "#0d0887"
             ],
             [
              0.1111111111111111,
              "#46039f"
             ],
             [
              0.2222222222222222,
              "#7201a8"
             ],
             [
              0.3333333333333333,
              "#9c179e"
             ],
             [
              0.4444444444444444,
              "#bd3786"
             ],
             [
              0.5555555555555556,
              "#d8576b"
             ],
             [
              0.6666666666666666,
              "#ed7953"
             ],
             [
              0.7777777777777778,
              "#fb9f3a"
             ],
             [
              0.8888888888888888,
              "#fdca26"
             ],
             [
              1,
              "#f0f921"
             ]
            ],
            "type": "contour"
           }
          ],
          "contourcarpet": [
           {
            "colorbar": {
             "outlinewidth": 0,
             "ticks": ""
            },
            "type": "contourcarpet"
           }
          ],
          "heatmap": [
           {
            "colorbar": {
             "outlinewidth": 0,
             "ticks": ""
            },
            "colorscale": [
             [
              0,
              "#0d0887"
             ],
             [
              0.1111111111111111,
              "#46039f"
             ],
             [
              0.2222222222222222,
              "#7201a8"
             ],
             [
              0.3333333333333333,
              "#9c179e"
             ],
             [
              0.4444444444444444,
              "#bd3786"
             ],
             [
              0.5555555555555556,
              "#d8576b"
             ],
             [
              0.6666666666666666,
              "#ed7953"
             ],
             [
              0.7777777777777778,
              "#fb9f3a"
             ],
             [
              0.8888888888888888,
              "#fdca26"
             ],
             [
              1,
              "#f0f921"
             ]
            ],
            "type": "heatmap"
           }
          ],
          "histogram": [
           {
            "marker": {
             "pattern": {
              "fillmode": "overlay",
              "size": 10,
              "solidity": 0.2
             }
            },
            "type": "histogram"
           }
          ],
          "histogram2d": [
           {
            "colorbar": {
             "outlinewidth": 0,
             "ticks": ""
            },
            "colorscale": [
             [
              0,
              "#0d0887"
             ],
             [
              0.1111111111111111,
              "#46039f"
             ],
             [
              0.2222222222222222,
              "#7201a8"
             ],
             [
              0.3333333333333333,
              "#9c179e"
             ],
             [
              0.4444444444444444,
              "#bd3786"
             ],
             [
              0.5555555555555556,
              "#d8576b"
             ],
             [
              0.6666666666666666,
              "#ed7953"
             ],
             [
              0.7777777777777778,
              "#fb9f3a"
             ],
             [
              0.8888888888888888,
              "#fdca26"
             ],
             [
              1,
              "#f0f921"
             ]
            ],
            "type": "histogram2d"
           }
          ],
          "histogram2dcontour": [
           {
            "colorbar": {
             "outlinewidth": 0,
             "ticks": ""
            },
            "colorscale": [
             [
              0,
              "#0d0887"
             ],
             [
              0.1111111111111111,
              "#46039f"
             ],
             [
              0.2222222222222222,
              "#7201a8"
             ],
             [
              0.3333333333333333,
              "#9c179e"
             ],
             [
              0.4444444444444444,
              "#bd3786"
             ],
             [
              0.5555555555555556,
              "#d8576b"
             ],
             [
              0.6666666666666666,
              "#ed7953"
             ],
             [
              0.7777777777777778,
              "#fb9f3a"
             ],
             [
              0.8888888888888888,
              "#fdca26"
             ],
             [
              1,
              "#f0f921"
             ]
            ],
            "type": "histogram2dcontour"
           }
          ],
          "mesh3d": [
           {
            "colorbar": {
             "outlinewidth": 0,
             "ticks": ""
            },
            "type": "mesh3d"
           }
          ],
          "parcoords": [
           {
            "line": {
             "colorbar": {
              "outlinewidth": 0,
              "ticks": ""
             }
            },
            "type": "parcoords"
           }
          ],
          "pie": [
           {
            "automargin": true,
            "type": "pie"
           }
          ],
          "scatter": [
           {
            "fillpattern": {
             "fillmode": "overlay",
             "size": 10,
             "solidity": 0.2
            },
            "type": "scatter"
           }
          ],
          "scatter3d": [
           {
            "line": {
             "colorbar": {
              "outlinewidth": 0,
              "ticks": ""
             }
            },
            "marker": {
             "colorbar": {
              "outlinewidth": 0,
              "ticks": ""
             }
            },
            "type": "scatter3d"
           }
          ],
          "scattercarpet": [
           {
            "marker": {
             "colorbar": {
              "outlinewidth": 0,
              "ticks": ""
             }
            },
            "type": "scattercarpet"
           }
          ],
          "scattergeo": [
           {
            "marker": {
             "colorbar": {
              "outlinewidth": 0,
              "ticks": ""
             }
            },
            "type": "scattergeo"
           }
          ],
          "scattergl": [
           {
            "marker": {
             "colorbar": {
              "outlinewidth": 0,
              "ticks": ""
             }
            },
            "type": "scattergl"
           }
          ],
          "scattermap": [
           {
            "marker": {
             "colorbar": {
              "outlinewidth": 0,
              "ticks": ""
             }
            },
            "type": "scattermap"
           }
          ],
          "scattermapbox": [
           {
            "marker": {
             "colorbar": {
              "outlinewidth": 0,
              "ticks": ""
             }
            },
            "type": "scattermapbox"
           }
          ],
          "scatterpolar": [
           {
            "marker": {
             "colorbar": {
              "outlinewidth": 0,
              "ticks": ""
             }
            },
            "type": "scatterpolar"
           }
          ],
          "scatterpolargl": [
           {
            "marker": {
             "colorbar": {
              "outlinewidth": 0,
              "ticks": ""
             }
            },
            "type": "scatterpolargl"
           }
          ],
          "scatterternary": [
           {
            "marker": {
             "colorbar": {
              "outlinewidth": 0,
              "ticks": ""
             }
            },
            "type": "scatterternary"
           }
          ],
          "surface": [
           {
            "colorbar": {
             "outlinewidth": 0,
             "ticks": ""
            },
            "colorscale": [
             [
              0,
              "#0d0887"
             ],
             [
              0.1111111111111111,
              "#46039f"
             ],
             [
              0.2222222222222222,
              "#7201a8"
             ],
             [
              0.3333333333333333,
              "#9c179e"
             ],
             [
              0.4444444444444444,
              "#bd3786"
             ],
             [
              0.5555555555555556,
              "#d8576b"
             ],
             [
              0.6666666666666666,
              "#ed7953"
             ],
             [
              0.7777777777777778,
              "#fb9f3a"
             ],
             [
              0.8888888888888888,
              "#fdca26"
             ],
             [
              1,
              "#f0f921"
             ]
            ],
            "type": "surface"
           }
          ],
          "table": [
           {
            "cells": {
             "fill": {
              "color": "#EBF0F8"
             },
             "line": {
              "color": "white"
             }
            },
            "header": {
             "fill": {
              "color": "#C8D4E3"
             },
             "line": {
              "color": "white"
             }
            },
            "type": "table"
           }
          ]
         },
         "layout": {
          "annotationdefaults": {
           "arrowcolor": "#2a3f5f",
           "arrowhead": 0,
           "arrowwidth": 1
          },
          "autotypenumbers": "strict",
          "coloraxis": {
           "colorbar": {
            "outlinewidth": 0,
            "ticks": ""
           }
          },
          "colorscale": {
           "diverging": [
            [
             0,
             "#8e0152"
            ],
            [
             0.1,
             "#c51b7d"
            ],
            [
             0.2,
             "#de77ae"
            ],
            [
             0.3,
             "#f1b6da"
            ],
            [
             0.4,
             "#fde0ef"
            ],
            [
             0.5,
             "#f7f7f7"
            ],
            [
             0.6,
             "#e6f5d0"
            ],
            [
             0.7,
             "#b8e186"
            ],
            [
             0.8,
             "#7fbc41"
            ],
            [
             0.9,
             "#4d9221"
            ],
            [
             1,
             "#276419"
            ]
           ],
           "sequential": [
            [
             0,
             "#0d0887"
            ],
            [
             0.1111111111111111,
             "#46039f"
            ],
            [
             0.2222222222222222,
             "#7201a8"
            ],
            [
             0.3333333333333333,
             "#9c179e"
            ],
            [
             0.4444444444444444,
             "#bd3786"
            ],
            [
             0.5555555555555556,
             "#d8576b"
            ],
            [
             0.6666666666666666,
             "#ed7953"
            ],
            [
             0.7777777777777778,
             "#fb9f3a"
            ],
            [
             0.8888888888888888,
             "#fdca26"
            ],
            [
             1,
             "#f0f921"
            ]
           ],
           "sequentialminus": [
            [
             0,
             "#0d0887"
            ],
            [
             0.1111111111111111,
             "#46039f"
            ],
            [
             0.2222222222222222,
             "#7201a8"
            ],
            [
             0.3333333333333333,
             "#9c179e"
            ],
            [
             0.4444444444444444,
             "#bd3786"
            ],
            [
             0.5555555555555556,
             "#d8576b"
            ],
            [
             0.6666666666666666,
             "#ed7953"
            ],
            [
             0.7777777777777778,
             "#fb9f3a"
            ],
            [
             0.8888888888888888,
             "#fdca26"
            ],
            [
             1,
             "#f0f921"
            ]
           ]
          },
          "colorway": [
           "#636efa",
           "#EF553B",
           "#00cc96",
           "#ab63fa",
           "#FFA15A",
           "#19d3f3",
           "#FF6692",
           "#B6E880",
           "#FF97FF",
           "#FECB52"
          ],
          "font": {
           "color": "#2a3f5f"
          },
          "geo": {
           "bgcolor": "white",
           "lakecolor": "white",
           "landcolor": "#E5ECF6",
           "showlakes": true,
           "showland": true,
           "subunitcolor": "white"
          },
          "hoverlabel": {
           "align": "left"
          },
          "hovermode": "closest",
          "mapbox": {
           "style": "light"
          },
          "paper_bgcolor": "white",
          "plot_bgcolor": "#E5ECF6",
          "polar": {
           "angularaxis": {
            "gridcolor": "white",
            "linecolor": "white",
            "ticks": ""
           },
           "bgcolor": "#E5ECF6",
           "radialaxis": {
            "gridcolor": "white",
            "linecolor": "white",
            "ticks": ""
           }
          },
          "scene": {
           "xaxis": {
            "backgroundcolor": "#E5ECF6",
            "gridcolor": "white",
            "gridwidth": 2,
            "linecolor": "white",
            "showbackground": true,
            "ticks": "",
            "zerolinecolor": "white"
           },
           "yaxis": {
            "backgroundcolor": "#E5ECF6",
            "gridcolor": "white",
            "gridwidth": 2,
            "linecolor": "white",
            "showbackground": true,
            "ticks": "",
            "zerolinecolor": "white"
           },
           "zaxis": {
            "backgroundcolor": "#E5ECF6",
            "gridcolor": "white",
            "gridwidth": 2,
            "linecolor": "white",
            "showbackground": true,
            "ticks": "",
            "zerolinecolor": "white"
           }
          },
          "shapedefaults": {
           "line": {
            "color": "#2a3f5f"
           }
          },
          "ternary": {
           "aaxis": {
            "gridcolor": "white",
            "linecolor": "white",
            "ticks": ""
           },
           "baxis": {
            "gridcolor": "white",
            "linecolor": "white",
            "ticks": ""
           },
           "bgcolor": "#E5ECF6",
           "caxis": {
            "gridcolor": "white",
            "linecolor": "white",
            "ticks": ""
           }
          },
          "title": {
           "x": 0.05
          },
          "xaxis": {
           "automargin": true,
           "gridcolor": "white",
           "linecolor": "white",
           "ticks": "",
           "title": {
            "standoff": 15
           },
           "zerolinecolor": "white",
           "zerolinewidth": 2
          },
          "yaxis": {
           "automargin": true,
           "gridcolor": "white",
           "linecolor": "white",
           "ticks": "",
           "title": {
            "standoff": 15
           },
           "zerolinecolor": "white",
           "zerolinewidth": 2
          }
         }
        },
        "title": {
         "text": "Global COVID-19 Case Density"
        }
       }
      }
     },
     "metadata": {},
     "output_type": "display_data"
    }
   ],
   "source": [
    "# Choropleth Map\n",
    "choropleth_df = latest_data[['iso_code', 'location', 'total_cases']]\n",
    "fig = px.choropleth(\n",
    "    choropleth_df,\n",
    "    locations=\"iso_code\",\n",
    "    color=\"total_cases\",\n",
    "    hover_name=\"location\",\n",
    "    title=\"Global COVID-19 Case Density\",\n",
    "    color_continuous_scale=\"Reds\"\n",
    ")\n",
    "fig.show()"
   ]
  },
  {
   "cell_type": "markdown",
   "id": "352dddc6",
   "metadata": {},
   "source": [
    "3.4 Visualization and Reporting\n",
    "\n",
    "\n",
    "The project leveraged matplotlib, seaborn, and plotly.express to create informative visualizations. These charts were central to understanding trends and communicating key findings:\n",
    "\n",
    "\n",
    "- Time Trend Analysis: Line charts were used to plot total cases and cumulative vaccinations over time for each of the selected countries, allowing for a direct comparison of the pandemic's progression.\n",
    "- Metric Comparison: A bar chart was generated to compare the latest total case counts across the countries, providing a snapshot of the final reported numbers.\n",
    "- Geographical Visualization: A choropleth map was built using plotly.express to visually represent the global distribution of COVID-19 case density, linking the data to a geographical context."
   ]
  },
  {
   "cell_type": "markdown",
   "id": "4278657f",
   "metadata": {},
   "source": [
    "4 Analysis & Key Findings\n",
    "\n",
    "\n",
    "The data analysis and visualizations revealed several key insights:\n",
    "\n",
    "- Case Progression: The line chart of total cases demonstrated a rapid, exponential rise in cases during the initial phases of the pandemic for all selected countries, though with varying start times and peak rates.\n",
    "- Vaccination Rollout: The cumulative vaccination chart highlighted the different speeds and scales of vaccination campaigns. The United States and India, for example, showed a much steeper rise in total vaccinations compared to the African nations in the sample, reflecting differences in population size and resource availability.\n",
    "- Death Rate Insights: While not explicitly visualized, the calculated death rate metric provides a valuable tool for future analysis to understand the fatality proportion in relation to total cases. This can be used to compare the severity of the outbreak and the effectiveness of healthcare responses in each country.\n",
    "- Global Distribution: The choropleth map successfully illustrated the global concentration of cases, with higher densities in countries that were major epicenters of the pandemic.\n"
   ]
  },
  {
   "cell_type": "markdown",
   "id": "4ab581ee",
   "metadata": {},
   "source": [
    "5 Conclusion\n",
    "\n",
    "\n",
    "This project successfully met all stated objectives, demonstrating a complete data analysis pipeline from raw data to a finished report. The use of Python libraries like pandas, matplotlib, seaborn, and plotly proved effective for data handling, statistical analysis, and compelling visualization. The final report, combining narrative, code, and visuals, provides a clear and actionable overview of COVID-19 trends across a diverse set of countries.\n",
    "The project highlights the importance of data cleaning and feature engineering in transforming raw data into meaningful insights. The visualizations created are essential for communicating complex trends in a clear and accessible format."
   ]
  }
 ],
 "metadata": {
  "kernelspec": {
   "display_name": "venv",
   "language": "python",
   "name": "python3"
  },
  "language_info": {
   "codemirror_mode": {
    "name": "ipython",
    "version": 3
   },
   "file_extension": ".py",
   "mimetype": "text/x-python",
   "name": "python",
   "nbconvert_exporter": "python",
   "pygments_lexer": "ipython3",
   "version": "3.13.5"
  }
 },
 "nbformat": 4,
 "nbformat_minor": 5
}
